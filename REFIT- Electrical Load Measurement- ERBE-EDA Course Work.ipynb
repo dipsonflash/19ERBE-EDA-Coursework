{
 "cells": [
  {
   "cell_type": "markdown",
   "metadata": {},
   "source": [
    "## Data analysis of Strathclyde Refit Data"
   ]
  },
  {
   "cell_type": "markdown",
   "metadata": {},
   "source": [
    "### Set Up"
   ]
  },
  {
   "cell_type": "code",
   "execution_count": 2,
   "metadata": {},
   "outputs": [],
   "source": [
    "%matplotlib inline\n",
    "import matplotlib.pyplot as plt\n",
    "import matplotlib.dates as mdates\n",
    "from pandas.plotting import register_matplotlib_converters\n",
    "import pandas as pd\n",
    "import os\n",
    "fp=r'C:\\Users\\cvyb\\OneDrive - Loughborough University\\ERBE_YB\\Energy Analysis\\Course Work\\CLEAN_REFIT_081116'"
   ]
  },
  {
   "cell_type": "markdown",
   "metadata": {},
   "source": [
    "## Data processing"
   ]
  },
  {
   "cell_type": "markdown",
   "metadata": {},
   "source": [
    "### This loads the data, resamples it to half hour intervals and saves the new data files."
   ]
  },
  {
   "cell_type": "code",
   "execution_count": 4,
   "metadata": {},
   "outputs": [
    {
     "data": {
      "text/plain": [
       "'C:\\\\Users\\\\cvyb\\\\OneDrive - Loughborough University\\\\ERBE_YB\\\\Energy Analysis\\\\Course Work\\\\CLEAN_REFIT_081116'"
      ]
     },
     "execution_count": 4,
     "metadata": {},
     "output_type": "execute_result"
    }
   ],
   "source": [
    "df"
   ]
  },
  {
   "cell_type": "code",
   "execution_count": 5,
   "metadata": {},
   "outputs": [
    {
     "name": "stdout",
     "output_type": "stream",
     "text": [
      "CLEAN_House1.csv\n",
      "CLEAN_House10.csv\n",
      "CLEAN_House11.csv\n",
      "CLEAN_House12.csv\n",
      "CLEAN_House13.csv\n",
      "CLEAN_House15.csv\n",
      "CLEAN_House16.csv\n",
      "CLEAN_House17.csv\n",
      "CLEAN_House18.csv\n",
      "CLEAN_House19.csv\n",
      "CLEAN_House2.csv\n",
      "CLEAN_House20.csv\n",
      "CLEAN_House21.csv\n",
      "CLEAN_House3.csv\n",
      "CLEAN_House4.csv\n",
      "CLEAN_House5.csv\n",
      "CLEAN_House6.csv\n",
      "CLEAN_House7.csv\n",
      "CLEAN_House8.csv\n",
      "CLEAN_House9.csv\n"
     ]
    }
   ],
   "source": [
    "flag=True\n",
    "for filename in os.listdir(fp):\n",
    "    print(filename)\n",
    "    path=os.path.join(fp,filename)\n",
    "    df=pd.read_csv(path,parse_dates=['Time'])\n",
    "    df=df.set_index('Time')\n",
    "    df=df.resample('30T').mean()\n",
    "    df=df.reset_index()\n",
    "    df['file']=filename\n",
    "    if flag:\n",
    "        df2=df\n",
    "        flag=False\n",
    "    else:\n",
    "        df2=df2.append(df)\n",
    "df2.to_csv('NewData.csv')"
   ]
  },
  {
   "cell_type": "markdown",
   "metadata": {},
   "source": [
    "### Import Combine Data"
   ]
  },
  {
   "cell_type": "code",
   "execution_count": 8,
   "metadata": {},
   "outputs": [],
   "source": [
    "mydf = pd.read_csv('NewData.csv')"
   ]
  },
  {
   "cell_type": "code",
   "execution_count": 9,
   "metadata": {},
   "outputs": [
    {
     "name": "stdout",
     "output_type": "stream",
     "text": [
      "<class 'pandas.core.frame.DataFrame'>\n",
      "RangeIndex: 522113 entries, 0 to 522112\n",
      "Data columns (total 15 columns):\n",
      "Unnamed: 0    522113 non-null int64\n",
      "Time          522113 non-null object\n",
      "Unix          462255 non-null float64\n",
      "Aggregate     462255 non-null float64\n",
      "Appliance1    462255 non-null float64\n",
      "Appliance2    462255 non-null float64\n",
      "Appliance3    462255 non-null float64\n",
      "Appliance4    462255 non-null float64\n",
      "Appliance5    462255 non-null float64\n",
      "Appliance6    462255 non-null float64\n",
      "Appliance7    462255 non-null float64\n",
      "Appliance8    462255 non-null float64\n",
      "Appliance9    462255 non-null float64\n",
      "Issues        462255 non-null float64\n",
      "file          522113 non-null object\n",
      "dtypes: float64(12), int64(1), object(2)\n",
      "memory usage: 59.8+ MB\n"
     ]
    }
   ],
   "source": [
    "mydf.info()"
   ]
  },
  {
   "cell_type": "markdown",
   "metadata": {},
   "source": [
    "### Present Data in Daily Energy Aggregate Consumption"
   ]
  },
  {
   "cell_type": "code",
   "execution_count": 7,
   "metadata": {},
   "outputs": [
    {
     "ename": "NameError",
     "evalue": "name 'df1' is not defined",
     "output_type": "error",
     "traceback": [
      "\u001b[1;31m---------------------------------------------------------------------------\u001b[0m",
      "\u001b[1;31mNameError\u001b[0m                                 Traceback (most recent call last)",
      "\u001b[1;32m<ipython-input-7-9d5eb50830ed>\u001b[0m in \u001b[0;36m<module>\u001b[1;34m\u001b[0m\n\u001b[1;32m----> 1\u001b[1;33m \u001b[0mdf1\u001b[0m\u001b[1;33m=\u001b[0m\u001b[0mdf1\u001b[0m\u001b[1;33m.\u001b[0m\u001b[0mresample\u001b[0m\u001b[1;33m(\u001b[0m\u001b[1;34m'1D'\u001b[0m\u001b[1;33m)\u001b[0m\u001b[1;33m.\u001b[0m\u001b[0mmean\u001b[0m\u001b[1;33m(\u001b[0m\u001b[1;33m)\u001b[0m\u001b[1;33m\u001b[0m\u001b[1;33m\u001b[0m\u001b[0m\n\u001b[0m",
      "\u001b[1;31mNameError\u001b[0m: name 'df1' is not defined"
     ]
    }
   ],
   "source": [
    "df1=df1.resample('1D').mean()"
   ]
  },
  {
   "cell_type": "code",
   "execution_count": 6,
   "metadata": {},
   "outputs": [
    {
     "ename": "NameError",
     "evalue": "name 'df1' is not defined",
     "output_type": "error",
     "traceback": [
      "\u001b[1;31m---------------------------------------------------------------------------\u001b[0m",
      "\u001b[1;31mNameError\u001b[0m                                 Traceback (most recent call last)",
      "\u001b[1;32m<ipython-input-6-6a861a8b3f1a>\u001b[0m in \u001b[0;36m<module>\u001b[1;34m\u001b[0m\n\u001b[1;32m----> 1\u001b[1;33m \u001b[0mdf1\u001b[0m\u001b[1;33m\u001b[0m\u001b[1;33m\u001b[0m\u001b[0m\n\u001b[0m",
      "\u001b[1;31mNameError\u001b[0m: name 'df1' is not defined"
     ]
    }
   ],
   "source": [
    "df1"
   ]
  },
  {
   "cell_type": "markdown",
   "metadata": {},
   "source": [
    "### Present Daily Energy Consumption Data as a Graph"
   ]
  },
  {
   "cell_type": "code",
   "execution_count": 22,
   "metadata": {},
   "outputs": [
    {
     "name": "stdout",
     "output_type": "stream",
     "text": [
      "PLOT_FILENAME: test.png\n"
     ]
    },
    {
     "data": {
      "image/png": "[encoded data removed]",
      "text/plain": [
       "<Figure size 1152x288 with 1 Axes>"
      ]
     },
     "metadata": {
      "needs_background": "light"
     },
     "output_type": "display_data"
    }
   ],
   "source": [
    "%matplotlib inline\n",
    "import matplotlib.pyplot as plt\n",
    "import matplotlib.dates as mdates\n",
    "from pandas.plotting import register_matplotlib_converters\n",
    "register_matplotlib_converters()\n",
    "fig, ax = plt.subplots(1,figsize=(16,4))\n",
    "ax.plot(df1,color='black',linewidth=0.5)\n",
    "ax.set_xlabel('Date')\n",
    "#ax.xaxis.set_major_locator(mdates.MonthLocator())\n",
    "#ax.xaxis.set_major_formatter(mdates.DateFormatter('%b'))\n",
    "ax.set_ylabel('Consumption')\n",
    "plot_filename=r'test.png'\n",
    "print('PLOT_FILENAME: '+plot_filename)\n",
    "#plt.savefig(plot_filename, bbox_inches='tight')\n",
    "plt.show()"
   ]
  },
  {
   "cell_type": "code",
   "execution_count": null,
   "metadata": {},
   "outputs": [],
   "source": []
  }
 ],
 "metadata": {
  "kernelspec": {
   "display_name": "Python 3",
   "language": "python",
   "name": "python3"
  },
  "language_info": {
   "codemirror_mode": {
    "name": "ipython",
    "version": 3
   },
   "file_extension": ".py",
   "mimetype": "text/x-python",
   "name": "python",
   "nbconvert_exporter": "python",
   "pygments_lexer": "ipython3",
   "version": "3.7.3"
  }
 },
 "nbformat": 4,
 "nbformat_minor": 2
}
