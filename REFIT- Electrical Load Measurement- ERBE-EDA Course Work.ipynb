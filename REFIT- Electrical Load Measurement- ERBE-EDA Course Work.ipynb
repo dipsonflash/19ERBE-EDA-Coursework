{
 "cells": [
  {
   "cell_type": "markdown",
   "metadata": {},
   "source": [
    "## Data analysis of Strathclyde Refit Data"
   ]
  },
  {
   "cell_type": "markdown",
   "metadata": {},
   "source": [
    "### Set Up"
   ]
  },
  {
   "cell_type": "markdown",
   "metadata": {},
   "source": [
    "### Import Required Libraries"
   ]
  },
  {
   "cell_type": "code",
   "execution_count": 7,
   "metadata": {},
   "outputs": [],
   "source": [
    "#conda install matplotlib --force # Reinstall matplotlib in case of running errors\n",
    "\n",
    "%matplotlib inline\n",
    "#from matplotlib import pyplot\n",
    "import matplotlib.pyplot as plt\n",
    "import matplotlib.dates as mdates\n",
    "from pandas.plotting import register_matplotlib_converters\n",
    "import pandas as pd\n",
    "import seaborn as sns\n",
    "import os"
   ]
  },
  {
   "cell_type": "code",
   "execution_count": 23,
   "metadata": {},
   "outputs": [],
   "source": [
    "fp=r'C:\\Users\\cvyb\\OneDrive - Loughborough University\\ERBE_YB\\Energy Analysis\\Course Work\\CLEAN_REFIT_081116'"
   ]
  },
  {
   "cell_type": "markdown",
   "metadata": {},
   "source": [
    "## Data processing"
   ]
  },
  {
   "cell_type": "markdown",
   "metadata": {},
   "source": [
    "### This loads the data, resamples it to half hour intervals and saves the new data files."
   ]
  },
  {
   "cell_type": "code",
   "execution_count": 8,
   "metadata": {},
   "outputs": [],
   "source": [
    "mydir = os.chdir('/Users/cvyb\\OneDrive - Loughborough University/ERBE_YB/Energy Analysis/Course Work/CLEAN_REFIT_081116')"
   ]
  },
  {
   "cell_type": "code",
   "execution_count": 9,
   "metadata": {},
   "outputs": [
    {
     "data": {
      "text/plain": [
       "['CLEAN_House10.csv',\n",
       " 'CLEAN_House11.csv',\n",
       " 'CLEAN_House12.csv',\n",
       " 'CLEAN_House13.csv']"
      ]
     },
     "execution_count": 9,
     "metadata": {},
     "output_type": "execute_result"
    }
   ],
   "source": [
    "myFile = os.listdir(mydir)\n",
    "myFile2 = os.path.splitext(myFile[1])[0].rsplit('_', 1)[1]\n",
    "#myFile2.rsplit('_', 1)[1]\n",
    "myFile[1:5]\n",
    "\n",
    "#testName = os.path.splitext(myFile)[0]#.rsplit('_', 1)[1]"
   ]
  },
  {
   "cell_type": "code",
   "execution_count": 33,
   "metadata": {},
   "outputs": [],
   "source": [
    "#for fileName in os.listdir(mydir):\n",
    "    #splitFileName = os.path.splitext(fileName)[0].rsplit('_', 1)[1]\n",
    "    #addFileName = os.path.join(fp,filename)\n",
    "    #print(splitFileName)"
   ]
  },
  {
   "cell_type": "code",
   "execution_count": 10,
   "metadata": {},
   "outputs": [],
   "source": [
    "myData0 = (pd.read_csv('CLEAN_House10.csv', usecols = ['Time', 'Aggregate'], index_col = 'Time', parse_dates=['Time'])\n",
    "          .resample('D').mean()\n",
    "          .rename(columns = {'Aggregate': 'AggregatePower_Watts'})\n",
    "          )\n"
   ]
  },
  {
   "cell_type": "code",
   "execution_count": 11,
   "metadata": {},
   "outputs": [],
   "source": [
    "myData = (myData0\n",
    "          .assign(AggregatePower_kW = myData0['AggregatePower_Watts'] / 1000)\n",
    "          .assign(TestHouse = myFile2)\n",
    "          #.fillna(None, method = 'ffill')\n",
    "          #.fillna(.mean())['AggregatePower_Watts', 'AggregatePower_kW']\n",
    "          #.fillna(method = 'ffill')\n",
    "          #.to_numeric(self[\"AggregatePower_Watts\"])\n",
    "          )\n",
    "\n",
    "myData = myData.fillna(myData.mean())"
   ]
  },
  {
   "cell_type": "code",
   "execution_count": 12,
   "metadata": {},
   "outputs": [],
   "source": [
    "#myData.info()"
   ]
  },
  {
   "cell_type": "code",
   "execution_count": 13,
   "metadata": {},
   "outputs": [],
   "source": [
    "#myData.isnull().sum()"
   ]
  },
  {
   "cell_type": "code",
   "execution_count": 14,
   "metadata": {},
   "outputs": [],
   "source": [
    "list_of_files = ['CLEAN_House1.csv',\n",
    " 'CLEAN_House10.csv',\n",
    " 'CLEAN_House11.csv',\n",
    " 'CLEAN_House12.csv',\n",
    " 'CLEAN_House13.csv',\n",
    " 'CLEAN_House15.csv',\n",
    " 'CLEAN_House16.csv',\n",
    " 'CLEAN_House17.csv',\n",
    " 'CLEAN_House18.csv',\n",
    " 'CLEAN_House19.csv',\n",
    " 'CLEAN_House2.csv',\n",
    " 'CLEAN_House20.csv',\n",
    " 'CLEAN_House21.csv',\n",
    " 'CLEAN_House3.csv',\n",
    " 'CLEAN_House4.csv',\n",
    " 'CLEAN_House5.csv',\n",
    " 'CLEAN_House6.csv',\n",
    " 'CLEAN_House7.csv',\n",
    " 'CLEAN_House8.csv',\n",
    " 'CLEAN_House9.csv']"
   ]
  },
  {
   "cell_type": "code",
   "execution_count": 15,
   "metadata": {},
   "outputs": [
    {
     "name": "stdout",
     "output_type": "stream",
     "text": [
      "House1\n",
      "House10\n",
      "House11\n",
      "House12\n",
      "House13\n",
      "House15\n",
      "House16\n",
      "House17\n",
      "House18\n",
      "House19\n",
      "House2\n",
      "House20\n",
      "House21\n",
      "House3\n",
      "House4\n",
      "House5\n",
      "House6\n",
      "House7\n",
      "House8\n",
      "House9\n"
     ]
    }
   ],
   "source": [
    "for fileName in list_of_files:\n",
    "    splitFileName = os.path.splitext(fileName)[0].rsplit('_', 1)[1]\n",
    "    print(splitFileName)"
   ]
  },
  {
   "cell_type": "code",
   "execution_count": 52,
   "metadata": {},
   "outputs": [],
   "source": [
    "#for filename in list_of_files:\n",
    "    #print(filename)"
   ]
  },
  {
   "cell_type": "code",
   "execution_count": 50,
   "metadata": {},
   "outputs": [],
   "source": [
    "#myFile"
   ]
  },
  {
   "cell_type": "code",
   "execution_count": 88,
   "metadata": {},
   "outputs": [
    {
     "name": "stdout",
     "output_type": "stream",
     "text": [
      "CLEAN_House1.csv\n",
      "CLEAN_House10.csv\n",
      "CLEAN_House11.csv\n",
      "CLEAN_House12.csv\n",
      "CLEAN_House13.csv\n",
      "CLEAN_House15.csv\n",
      "CLEAN_House16.csv\n",
      "CLEAN_House17.csv\n",
      "CLEAN_House18.csv\n",
      "CLEAN_House19.csv\n",
      "CLEAN_House2.csv\n",
      "CLEAN_House20.csv\n",
      "CLEAN_House21.csv\n",
      "CLEAN_House3.csv\n",
      "CLEAN_House4.csv\n",
      "CLEAN_House5.csv\n",
      "CLEAN_House6.csv\n",
      "CLEAN_House7.csv\n",
      "CLEAN_House8.csv\n",
      "CLEAN_House9.csv\n"
     ]
    }
   ],
   "source": [
    "data_container = []\n",
    "\n",
    "for filename in list_of_files:\n",
    "    print(filename)\n",
    "    splitFileName = os.path.splitext(filename)[0].rsplit('_', 1)[1]\n",
    "        \n",
    "    mydf0 = (pd.read_csv(filename, usecols = ['Time', 'Aggregate'], index_col = 'Time', parse_dates=['Time'])\n",
    "          .resample('M').mean()\n",
    "          .rename(columns = {'Aggregate': 'AggregatePower_Watts'}))\n",
    "    \n",
    "    mydf1 = (mydf0\n",
    "          .assign(AggregatePower_kW = mydf0['AggregatePower_Watts'] / 1000)\n",
    "          .assign(TestHouse = splitFileName)\n",
    "          #.fillna(None, method = 'pad')\n",
    "          )\n",
    "    mydf = mydf1.fillna(mydf1.mean())\n",
    "    \n",
    "    data_container.append(mydf)\n",
    "    \n",
    "all_data = pd.concat(data_container, axis = 0)\n",
    "#all_data[\"TestHouse\"] = pd.Categorical(all_data.TestHouse)\n",
    "\n",
    "all_data.to_csv('output/all_data.csv')"
   ]
  },
  {
   "cell_type": "code",
   "execution_count": 109,
   "metadata": {},
   "outputs": [
    {
     "data": {
      "text/html": [
       "<div>\n",
       "<style scoped>\n",
       "    .dataframe tbody tr th:only-of-type {\n",
       "        vertical-align: middle;\n",
       "    }\n",
       "\n",
       "    .dataframe tbody tr th {\n",
       "        vertical-align: top;\n",
       "    }\n",
       "\n",
       "    .dataframe thead th {\n",
       "        text-align: right;\n",
       "    }\n",
       "</style>\n",
       "<table border=\"1\" class=\"dataframe\">\n",
       "  <thead>\n",
       "    <tr style=\"text-align: right;\">\n",
       "      <th></th>\n",
       "      <th>AggregatePower_Watts</th>\n",
       "      <th>AggregatePower_kW</th>\n",
       "      <th>TestHouse</th>\n",
       "    </tr>\n",
       "    <tr>\n",
       "      <th>Time</th>\n",
       "      <th></th>\n",
       "      <th></th>\n",
       "      <th></th>\n",
       "    </tr>\n",
       "  </thead>\n",
       "  <tbody>\n",
       "    <tr>\n",
       "      <th>2015-03-31</th>\n",
       "      <td>643.013194</td>\n",
       "      <td>0.643013</td>\n",
       "      <td>House9</td>\n",
       "    </tr>\n",
       "    <tr>\n",
       "      <th>2015-04-30</th>\n",
       "      <td>520.036702</td>\n",
       "      <td>0.520037</td>\n",
       "      <td>House9</td>\n",
       "    </tr>\n",
       "    <tr>\n",
       "      <th>2015-05-31</th>\n",
       "      <td>568.134787</td>\n",
       "      <td>0.568135</td>\n",
       "      <td>House9</td>\n",
       "    </tr>\n",
       "    <tr>\n",
       "      <th>2015-06-30</th>\n",
       "      <td>478.783661</td>\n",
       "      <td>0.478784</td>\n",
       "      <td>House9</td>\n",
       "    </tr>\n",
       "    <tr>\n",
       "      <th>2015-07-31</th>\n",
       "      <td>502.985215</td>\n",
       "      <td>0.502985</td>\n",
       "      <td>House9</td>\n",
       "    </tr>\n",
       "  </tbody>\n",
       "</table>\n",
       "</div>"
      ],
      "text/plain": [
       "            AggregatePower_Watts  AggregatePower_kW TestHouse\n",
       "Time                                                         \n",
       "2015-03-31            643.013194           0.643013    House9\n",
       "2015-04-30            520.036702           0.520037    House9\n",
       "2015-05-31            568.134787           0.568135    House9\n",
       "2015-06-30            478.783661           0.478784    House9\n",
       "2015-07-31            502.985215           0.502985    House9"
      ]
     },
     "execution_count": 109,
     "metadata": {},
     "output_type": "execute_result"
    }
   ],
   "source": [
    "all_data.tail()"
   ]
  },
  {
   "cell_type": "markdown",
   "metadata": {},
   "source": [
    "### Visualisation "
   ]
  },
  {
   "cell_type": "code",
   "execution_count": 87,
   "metadata": {},
   "outputs": [],
   "source": [
    "#plt.figure(figsize = (15,7))\n",
    "\n",
    "#myplot = sns.lineplot(x = \"Time\",\n",
    "                     #y = \"AggregatePower_kW\",\n",
    "                     #data = all_data.reset_index()#, hue = \"TestHouse\"\n",
    "                     #)"
   ]
  },
  {
   "cell_type": "code",
   "execution_count": 27,
   "metadata": {},
   "outputs": [],
   "source": [
    "#plt.figure(figsize = (15,7))\n",
    "\n",
    "#p1 = sns.relplot(x = \"Time\",\n",
    "                     #y = \"AggregatePower_kW\",\n",
    "                     #data = all_data.reset_index(), \n",
    "                    # kind = \"line\"\n",
    "                     #)"
   ]
  },
  {
   "cell_type": "code",
   "execution_count": 84,
   "metadata": {},
   "outputs": [],
   "source": [
    "all_data[\"TestHouse\"] = pd.Categorical(all_data.TestHouse)\n",
    "#all_data.info()"
   ]
  },
  {
   "cell_type": "code",
   "execution_count": 113,
   "metadata": {},
   "outputs": [
    {
     "data": {
      "image/png": "[encoded data removed]",
      "text/plain": [
       "<Figure size 864x1080 with 20 Axes>"
      ]
     },
     "metadata": {},
     "output_type": "display_data"
    }
   ],
   "source": [
    "#sns.set(style = \"ticks\", color_codes = True)\n",
    "#no_of_houses = all_data[\"TestHouse\"].nunique()\n",
    "\n",
    "p0 = all_data.reset_index()\n",
    "p1 = sns.FacetGrid(p0, col = \"TestHouse\", col_wrap = 4)\n",
    "#p2 = p1.map(plt.plot, \"Time\", \"AggregatePower_kW\")\n",
    "p2 = p1.map_dataframe(sns.lineplot, \"Time\", \"AggregatePower_kW\")\n",
    "\n",
    "#define date format\n",
    "#date_form = mdates.DateFormatter(\"%b-%Y\")\n",
    "#ax.xaxis.set_major_formatter(date_form)\n",
    "plt.show()\n"
   ]
  },
  {
   "cell_type": "code",
   "execution_count": 107,
   "metadata": {},
   "outputs": [
    {
     "data": {
      "text/plain": [
       "20"
      ]
     },
     "execution_count": 107,
     "metadata": {},
     "output_type": "execute_result"
    }
   ],
   "source": [
    "no_of_houses = all_data[\"TestHouse\"].nunique()#.value_counts()\n",
    "no_of_houses"
   ]
  },
  {
   "cell_type": "code",
   "execution_count": 54,
   "metadata": {},
   "outputs": [
    {
     "data": {
      "text/html": [
       "<div>\n",
       "<style scoped>\n",
       "    .dataframe tbody tr th:only-of-type {\n",
       "        vertical-align: middle;\n",
       "    }\n",
       "\n",
       "    .dataframe tbody tr th {\n",
       "        vertical-align: top;\n",
       "    }\n",
       "\n",
       "    .dataframe thead th {\n",
       "        text-align: right;\n",
       "    }\n",
       "</style>\n",
       "<table border=\"1\" class=\"dataframe\">\n",
       "  <thead>\n",
       "    <tr style=\"text-align: right;\">\n",
       "      <th></th>\n",
       "      <th>total_bill</th>\n",
       "      <th>tip</th>\n",
       "      <th>sex</th>\n",
       "      <th>smoker</th>\n",
       "      <th>day</th>\n",
       "      <th>time</th>\n",
       "      <th>size</th>\n",
       "    </tr>\n",
       "  </thead>\n",
       "  <tbody>\n",
       "    <tr>\n",
       "      <th>0</th>\n",
       "      <td>16.99</td>\n",
       "      <td>1.01</td>\n",
       "      <td>Female</td>\n",
       "      <td>No</td>\n",
       "      <td>Sun</td>\n",
       "      <td>Dinner</td>\n",
       "      <td>2</td>\n",
       "    </tr>\n",
       "    <tr>\n",
       "      <th>1</th>\n",
       "      <td>10.34</td>\n",
       "      <td>1.66</td>\n",
       "      <td>Male</td>\n",
       "      <td>No</td>\n",
       "      <td>Sun</td>\n",
       "      <td>Dinner</td>\n",
       "      <td>3</td>\n",
       "    </tr>\n",
       "    <tr>\n",
       "      <th>2</th>\n",
       "      <td>21.01</td>\n",
       "      <td>3.50</td>\n",
       "      <td>Male</td>\n",
       "      <td>No</td>\n",
       "      <td>Sun</td>\n",
       "      <td>Dinner</td>\n",
       "      <td>3</td>\n",
       "    </tr>\n",
       "    <tr>\n",
       "      <th>3</th>\n",
       "      <td>23.68</td>\n",
       "      <td>3.31</td>\n",
       "      <td>Male</td>\n",
       "      <td>No</td>\n",
       "      <td>Sun</td>\n",
       "      <td>Dinner</td>\n",
       "      <td>2</td>\n",
       "    </tr>\n",
       "    <tr>\n",
       "      <th>4</th>\n",
       "      <td>24.59</td>\n",
       "      <td>3.61</td>\n",
       "      <td>Female</td>\n",
       "      <td>No</td>\n",
       "      <td>Sun</td>\n",
       "      <td>Dinner</td>\n",
       "      <td>4</td>\n",
       "    </tr>\n",
       "  </tbody>\n",
       "</table>\n",
       "</div>"
      ],
      "text/plain": [
       "   total_bill   tip     sex smoker  day    time  size\n",
       "0       16.99  1.01  Female     No  Sun  Dinner     2\n",
       "1       10.34  1.66    Male     No  Sun  Dinner     3\n",
       "2       21.01  3.50    Male     No  Sun  Dinner     3\n",
       "3       23.68  3.31    Male     No  Sun  Dinner     2\n",
       "4       24.59  3.61  Female     No  Sun  Dinner     4"
      ]
     },
     "execution_count": 54,
     "metadata": {},
     "output_type": "execute_result"
    }
   ],
   "source": [
    "tips = sns.load_dataset(\"tips\")\n",
    "tips.head()"
   ]
  },
  {
   "cell_type": "code",
   "execution_count": 42,
   "metadata": {},
   "outputs": [
    {
     "name": "stdout",
     "output_type": "stream",
     "text": [
      "<class 'pandas.core.frame.DataFrame'>\n",
      "DatetimeIndex: 10900 entries, 2013-10-09 to 2015-07-08\n",
      "Data columns (total 3 columns):\n",
      " #   Column                Non-Null Count  Dtype   \n",
      "---  ------                --------------  -----   \n",
      " 0   AggregatePower_Watts  10900 non-null  float64 \n",
      " 1   AggregatePower_kW     10900 non-null  float64 \n",
      " 2   TestHouse             10900 non-null  category\n",
      "dtypes: category(1), float64(2)\n",
      "memory usage: 266.9 KB\n"
     ]
    }
   ],
   "source": []
  },
  {
   "cell_type": "code",
   "execution_count": 69,
   "metadata": {},
   "outputs": [
    {
     "name": "stdout",
     "output_type": "stream",
     "text": [
      "<class 'pandas.core.frame.DataFrame'>\n",
      "DatetimeIndex: 10900 entries, 2013-10-09 to 2015-07-08\n",
      "Data columns (total 2 columns):\n",
      " #   Column                Non-Null Count  Dtype  \n",
      "---  ------                --------------  -----  \n",
      " 0   AggregatePower_Watts  10900 non-null  float64\n",
      " 1   AggregatePower_kW     10900 non-null  float64\n",
      "dtypes: float64(2)\n",
      "memory usage: 255.5 KB\n"
     ]
    }
   ],
   "source": [
    "a = all_data[[\"AggregatePower_Watts\", \"AggregatePower_kW\"]]\n",
    "a.info()"
   ]
  },
  {
   "cell_type": "code",
   "execution_count": 96,
   "metadata": {},
   "outputs": [
    {
     "name": "stdout",
     "output_type": "stream",
     "text": [
      "<class 'pandas.core.frame.DataFrame'>\n",
      "DatetimeIndex: 376 entries, 2013-10-31 to 2015-07-31\n",
      "Data columns (total 3 columns):\n",
      " #   Column                Non-Null Count  Dtype  \n",
      "---  ------                --------------  -----  \n",
      " 0   AggregatePower_Watts  376 non-null    float64\n",
      " 1   AggregatePower_kW     376 non-null    float64\n",
      " 2   TestHouse             376 non-null    object \n",
      "dtypes: float64(2), object(1)\n",
      "memory usage: 11.8+ KB\n"
     ]
    }
   ],
   "source": [
    "b = (all_data\n",
    "     .resample('M').sum()\n",
    "    )\n",
    "all_data.info(10)"
   ]
  },
  {
   "cell_type": "code",
   "execution_count": null,
   "metadata": {},
   "outputs": [],
   "source": []
  },
  {
   "cell_type": "code",
   "execution_count": null,
   "metadata": {},
   "outputs": [],
   "source": []
  }
 ],
 "metadata": {
  "kernelspec": {
   "display_name": "Python 3",
   "language": "python",
   "name": "python3"
  },
  "language_info": {
   "codemirror_mode": {
    "name": "ipython",
    "version": 3
   },
   "file_extension": ".py",
   "mimetype": "text/x-python",
   "name": "python",
   "nbconvert_exporter": "python",
   "pygments_lexer": "ipython3",
   "version": "3.7.3"
  }
 },
 "nbformat": 4,
 "nbformat_minor": 2
}
